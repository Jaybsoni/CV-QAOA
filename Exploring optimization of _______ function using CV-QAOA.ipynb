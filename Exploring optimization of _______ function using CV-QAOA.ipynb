{
 "cells": [
  {
   "cell_type": "code",
   "execution_count": 39,
   "metadata": {},
   "outputs": [],
   "source": [
    "import numpy as np \n",
    "import pennylane as qml \n",
    "from cv_qaoa import main \n",
    "import strawberryfields as sf\n",
    "main.main()  # check that cv_qaoa was successfully imported ! "
   ]
  },
  {
   "cell_type": "code",
   "execution_count": 40,
   "metadata": {},
   "outputs": [],
   "source": [
    "from cv_qaoa import unitaries as copt"
   ]
  },
  {
   "cell_type": "code",
   "execution_count": 41,
   "metadata": {},
   "outputs": [],
   "source": [
    "num_modes = 2\n",
    "prog = sf.Program(num_modes) # number of modes will be dependent on cost and mixer hams\n",
    "\n",
    "r_sqz = 1.0 # from the paper\n",
    "phi_sqz = 0 # \n",
    "\n",
    "num_blocks = 3\n",
    "\n",
    "gamma = np.random.uniform(0.0, np.pi*2, size=(3, 3))\n",
    "eta = np.random.uniform(0.0, np.pi*2, size=(3, 3))"
   ]
  },
  {
   "cell_type": "code",
   "execution_count": 42,
   "metadata": {},
   "outputs": [
    {
     "name": "stdout",
     "output_type": "stream",
     "text": [
      "Rgate(1.341) | (q[0])\n",
      "Rgate(0.1983) | (q[1])\n",
      "Rgate(-1.571) | (q[0])\n",
      "Rgate(-1.571) | (q[1])\n",
      "Pgate(4.25) | (q[0])\n",
      "Pgate(4.25) | (q[1])\n",
      "Fourier | (q[0])\n",
      "Fourier | (q[1])\n"
     ]
    }
   ],
   "source": [
    "# testing circuit compilation:\n",
    "with prog.context as q:\n",
    "    copt.U_number_mixer(q, [gamma[0][0], gamma[0][1]])\n",
    "    copt.U_kinetic_mixer(q, eta[0][0])\n",
    "\n",
    "prog.print()"
   ]
  },
  {
   "cell_type": "code",
   "execution_count": null,
   "metadata": {},
   "outputs": [],
   "source": []
  }
 ],
 "metadata": {
  "kernelspec": {
   "display_name": "Python 3",
   "language": "python",
   "name": "python3"
  },
  "language_info": {
   "codemirror_mode": {
    "name": "ipython",
    "version": 3
   },
   "file_extension": ".py",
   "mimetype": "text/x-python",
   "name": "python",
   "nbconvert_exporter": "python",
   "pygments_lexer": "ipython3",
   "version": "3.7.7"
  }
 },
 "nbformat": 4,
 "nbformat_minor": 2
}
